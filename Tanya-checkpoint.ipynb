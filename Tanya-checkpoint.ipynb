{
 "cells": [
  {
   "cell_type": "code",
   "execution_count": 1,
   "id": "b820af3a-1e93-4cc6-baf4-f77b930835b8",
   "metadata": {},
   "outputs": [
    {
     "name": "stdout",
     "output_type": "stream",
     "text": [
      "hello world\n"
     ]
    }
   ],
   "source": [
    "print (\"hello world\")"
   ]
  },
  {
   "cell_type": "code",
   "execution_count": 9,
   "id": "b622ff46-ebec-41c8-a522-5c3da26a8214",
   "metadata": {},
   "outputs": [
    {
     "name": "stdin",
     "output_type": "stream",
     "text": [
      "enter the no. 7\n"
     ]
    },
    {
     "name": "stdout",
     "output_type": "stream",
     "text": [
      "1\n",
      "2\n",
      "3\n",
      "4\n",
      "5\n",
      "6\n",
      "7\n"
     ]
    }
   ],
   "source": [
    "a = int(input(\"enter the no.\"))\n",
    "\n",
    "for i in range(1,a+1):\n",
    "  print(i )"
   ]
  },
  {
   "cell_type": "code",
   "execution_count": 11,
   "id": "6f81ea69-1058-4df8-ae40-c2c0bde39882",
   "metadata": {},
   "outputs": [
    {
     "name": "stdin",
     "output_type": "stream",
     "text": [
      "enter the no. 2\n"
     ]
    },
    {
     "name": "stdout",
     "output_type": "stream",
     "text": [
      "2  *  1 = 2\n",
      "2  *  2 = 4\n",
      "2  *  3 = 6\n",
      "2  *  4 = 8\n",
      "2  *  5 = 10\n",
      "2  *  6 = 12\n",
      "2  *  7 = 14\n",
      "2  *  8 = 16\n",
      "2  *  9 = 18\n",
      "2  *  10 = 20\n"
     ]
    }
   ],
   "source": [
    "a= int(input(\"enter the no.\"))\n",
    "\n",
    "for i in range(1,11,1):\n",
    "  print( a ,\" * \", i  , \"=\" , a*i)"
   ]
  },
  {
   "cell_type": "code",
   "execution_count": 23,
   "id": "dec99778-8232-46d0-b54b-44577382ec1c",
   "metadata": {},
   "outputs": [
    {
     "name": "stdout",
     "output_type": "stream",
     "text": [
      "5  is odd\n",
      "6  is even\n",
      "7  is odd\n",
      "8  is even\n",
      "9  is odd\n",
      "10  is even\n",
      "11  is odd\n",
      "12  is even\n",
      "13  is odd\n",
      "14  is even\n"
     ]
    }
   ],
   "source": [
    "for i in range(5,15):\n",
    " if(i%2==0):\n",
    "     print(i ,\" is even\"  )\n",
    " else:\n",
    "      print(i ,\" is odd\")"
   ]
  },
  {
   "cell_type": "code",
   "execution_count": 46,
   "id": "5d3ae47f-9fae-4524-ad69-18133bbc5241",
   "metadata": {},
   "outputs": [
    {
     "name": "stdin",
     "output_type": "stream",
     "text": [
      "enter no. 8\n"
     ]
    },
    {
     "name": "stdout",
     "output_type": "stream",
     "text": [
      "this is not a prime no.\n"
     ]
    }
   ],
   "source": [
    "a= int(input(\"enter no.\"))\n",
    "fact=0\n",
    "for i in range (1,a+1,1):\n",
    "        \n",
    "         if (a%i ==0 ):\n",
    "           fact= fact+1\n",
    "          \n",
    "if ( fact>2 ):\n",
    "    print(\"this is not a prime no.\")\n",
    "\n",
    "else:\n",
    "    print(\"this is a prime no.\")"
   ]
  },
  {
   "cell_type": "code",
   "execution_count": 54,
   "id": "280c544e-2c35-4b5e-86de-24dd80b03a7f",
   "metadata": {},
   "outputs": [
    {
     "name": "stdin",
     "output_type": "stream",
     "text": [
      "enter no. 9\n"
     ]
    },
    {
     "name": "stdout",
     "output_type": "stream",
     "text": [
      "362880\n"
     ]
    }
   ],
   "source": [
    "a= int(input(\"enter no.\"))\n",
    "\n",
    "factorial= 1\n",
    "for i in range(1,a+1,1):\n",
    "    factorial = factorial* i\n",
    "    \n",
    "    \n",
    "print(factorial)"
   ]
  },
  {
   "cell_type": "code",
   "execution_count": null,
   "id": "63395403-d582-4e91-b633-cbe2e1702a5d",
   "metadata": {},
   "outputs": [],
   "source": []
  },
  {
   "cell_type": "code",
   "execution_count": null,
   "id": "b2fc4458-2164-49ca-9d05-66b4fc7acdc3",
   "metadata": {},
   "outputs": [],
   "source": []
  }
 ],
 "metadata": {
  "kernelspec": {
   "display_name": "Python 3 (ipykernel)",
   "language": "python",
   "name": "python3"
  },
  "language_info": {
   "codemirror_mode": {
    "name": "ipython",
    "version": 3
   },
   "file_extension": ".py",
   "mimetype": "text/x-python",
   "name": "python",
   "nbconvert_exporter": "python",
   "pygments_lexer": "ipython3",
   "version": "3.11.7"
  }
 },
 "nbformat": 4,
 "nbformat_minor": 5
}
